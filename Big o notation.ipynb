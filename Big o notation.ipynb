{
 "cells": [
  {
   "cell_type": "code",
   "execution_count": 27,
   "metadata": {},
   "outputs": [
    {
     "name": "stdout",
     "output_type": "stream",
     "text": [
      "true and pair is:( 5 , 3 )\n",
      "true and pair is:( 7 , 1 )\n"
     ]
    },
    {
     "data": {
      "text/plain": [
       "[7, 6, 5, 4, 3, 1, -1]"
      ]
     },
     "execution_count": 27,
     "metadata": {},
     "output_type": "execute_result"
    }
   ],
   "source": [
    "l=[1,2,3,4,5,7,9] # space complexity :o(n) and time complexity:o(1)\n",
    "comp=[]  # space complexity o(n) and time complexity:o(1)\n",
    "for i in range(len(l)): #o(n)\n",
    "    if l[i] in comp: #o(n) as time complexity of lookup in list and tuples is of contant time o(1)\n",
    "         print(\"true and pair is:(\",l[i],\",\",8-comp[comp.index(l[i])],\")\")  #o(n)\n",
    "    comp.append(8-l[i]) #o(n)\n",
    "    \n",
    "compo #o(1)"
   ]
  },
  {
   "cell_type": "code",
   "execution_count": null,
   "metadata": {},
   "outputs": [],
   "source": []
  }
 ],
 "metadata": {
  "kernelspec": {
   "display_name": "Python 3",
   "language": "python",
   "name": "python3"
  },
  "language_info": {
   "codemirror_mode": {
    "name": "ipython",
    "version": 3
   },
   "file_extension": ".py",
   "mimetype": "text/x-python",
   "name": "python",
   "nbconvert_exporter": "python",
   "pygments_lexer": "ipython3",
   "version": "3.8.3"
  }
 },
 "nbformat": 4,
 "nbformat_minor": 4
}
