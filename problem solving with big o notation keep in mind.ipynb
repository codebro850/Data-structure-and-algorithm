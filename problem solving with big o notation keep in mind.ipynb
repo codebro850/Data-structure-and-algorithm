{
 "cells": [
  {
   "cell_type": "markdown",
   "metadata": {},
   "source": [
    "# problem no1"
   ]
  },
  {
   "cell_type": "code",
   "execution_count": 13,
   "metadata": {},
   "outputs": [],
   "source": [
    "blocks=[\n",
    "    {'gym':True,\"store\":False,\"office\":False},\n",
    "    {'gym':False,\"store\":True,\"office\":False},\n",
    "    {'gym':False,\"store\":True,\"office\":True},\n",
    "    {'gym':False,\"store\":False,\"office\":False},\n",
    "    {'gym':True,\"store\":False,\"office\":True}\n",
    "]"
   ]
  },
  {
   "cell_type": "code",
   "execution_count": 14,
   "metadata": {},
   "outputs": [
    {
     "data": {
      "text/plain": [
       "[{'gym_dist': 0, 'store_dist': -1, 'office_dist': -1},\n",
       " {'gym_dist': -1, 'store_dist': 0, 'office_dist': -1},\n",
       " {'gym_dist': -1, 'store_dist': 0, 'office_dist': 0},\n",
       " {'gym_dist': -1, 'store_dist': -1, 'office_dist': -1},\n",
       " {'gym_dist': 0, 'store_dist': -1, 'office_dist': 0}]"
      ]
     },
     "execution_count": 14,
     "metadata": {},
     "output_type": "execute_result"
    }
   ],
   "source": [
    "dist_block=[]\n",
    "min_dist=0\n",
    "max_dist=1\n",
    "\n",
    "for i in range(len(blocks)):\n",
    "    dist={'gym_dist':0,'store_dist':0,'office_dist':0}\n",
    "    if blocks[i]['gym']:\n",
    "        dist['gym_dist']=0\n",
    "    if blocks[i]['store']:\n",
    "        dist['store_dist']=0\n",
    "    if blocks[i]['office']:\n",
    "        dist['office_dist']=0  \n",
    "    if not blocks[i]['gym']:\n",
    "        dist['gym_dist']=-1\n",
    "    if not blocks[i]['store']:\n",
    "        dist['store_dist']=-1\n",
    "    if not blocks[i]['office']:\n",
    "        dist['office_dist']=-1 \n",
    "    dist_block.append(dist)\n",
    "    \n",
    "    \n",
    "        \n",
    "        \n",
    "        \n",
    "dist_block\n",
    "    "
   ]
  },
  {
   "cell_type": "code",
   "execution_count": 18,
   "metadata": {},
   "outputs": [],
   "source": [
    "acc_block=[]\n",
    "for i in range(len(blocks)):#o(n)\n",
    "    acc_dist={'gym_dist':'no','store_dist':'no','office_dist':'no'}\n",
    "    if dist_block[i]['gym_dist']<0:\n",
    "        if i==0:\n",
    "            next_gis=dist_block[i+1]['gym_dist']+dist_block[i]['gym_dist']\n",
    "            if next_gis==-1:\n",
    "                acc_dist['gym_dist']='yes'\n",
    "        if (i<(len(blocks)-1))&(i!=0):\n",
    "            next_dis=dist_block[i+1]['gym_dist']+dist_block[i]['gym_dist']\n",
    "            if next_dis==-1:\n",
    "                acc_dist['gym_dist']='yes'\n",
    "            pre_dist=dist_block[i-1]['gym_dist']+dist_block[i]['gym_dist']\n",
    "            if pre_dist==-1:\n",
    "                acc_dist['gym_dist']='yes'\n",
    "        if i==(len(blocks)-1):\n",
    "            pre_dist=dist_block[i-1]['gym_dist']+dist_block[i]['gym_dist']\n",
    "            if pre_dist==-1:\n",
    "                acc_dist['gym_dist']='yes'\n",
    "      \n",
    "    if dist_block[i]['store_dist']<0:\n",
    "        if i==0:\n",
    "            next_dis=dist_block[i+1]['store_dist']+dist_block[i]['store_dist']\n",
    "            if next_dis==-1:\n",
    "                acc_dist['store_dist']='yes'\n",
    "        if (i<(len(blocks)-1))&(i!=0):\n",
    "            next_dis=dist_block[i+1]['store_dist']+dist_block[i]['store_dist']\n",
    "            if next_dis==-1:\n",
    "                acc_dist['store_dist']='yes'\n",
    "            pre_dist=dist_block[i-1]['store_dist']+dist_block[i]['store_dist']\n",
    "            if pre_dist==-1:\n",
    "                acc_dist['store_dist']='yes'   \n",
    "        if i==(len(blocks)-1):\n",
    "            pre_dist=dist_block[i-1]['store_dist']+dist_block[i]['store_dist']\n",
    "            if pre_dist==-1:\n",
    "                acc_dist['store_dist']='yes' \n",
    "               \n",
    "    if dist_block[i]['office_dist']<0:\n",
    "            if i==0:\n",
    "                off_dist=dist_block[i]['office_dist']+dist_block[i+1]['office_dist']\n",
    "                if off_dist==-1:\n",
    "                    acc_dist['office_dist']='yes'\n",
    "            if (i<(len(blocks)-1))&(i!=0):\n",
    "                next_dis=dist_block[i+1]['office_dist']+dist_block[i]['office_dist']\n",
    "                if next_dis==-1:\n",
    "                    acc_dist['office_dist']='yes'\n",
    "                pre_dist=dist_block[i-1]['office_dist']+dist_block[i]['office_dist']\n",
    "                if pre_dist==-1:\n",
    "                    acc_dist['office_dist']='yes'   \n",
    "            if i==(len(blocks)-1):\n",
    "                pre_dist=dist_block[i-1]['office_dist']+dist_block[i]['office_dist']\n",
    "                if pre_dist==-1:\n",
    "                    acc_dist['office_dist']='yes' \n",
    "    if dist_block[i]['gym_dist']==0:\n",
    "        acc_dist['gym_dist']='yes'\n",
    "    if dist_block[i]['store_dist']==0:\n",
    "        acc_dist['store_dist']='yes'\n",
    "    if dist_block[i]['office_dist']==0:\n",
    "        acc_dist['office_dist']='yes'\n",
    "    acc_block.append(acc_dist)   \n"
   ]
  },
  {
   "cell_type": "code",
   "execution_count": 19,
   "metadata": {},
   "outputs": [
    {
     "data": {
      "text/plain": [
       "[{'gym_dist': 'yes', 'store_dist': 'yes', 'office_dist': 'no'},\n",
       " {'gym_dist': 'yes', 'store_dist': 'yes', 'office_dist': 'yes'},\n",
       " {'gym_dist': 'no', 'store_dist': 'yes', 'office_dist': 'yes'},\n",
       " {'gym_dist': 'yes', 'store_dist': 'yes', 'office_dist': 'yes'},\n",
       " {'gym_dist': 'yes', 'store_dist': 'no', 'office_dist': 'yes'}]"
      ]
     },
     "execution_count": 19,
     "metadata": {},
     "output_type": "execute_result"
    }
   ],
   "source": [
    "acc_block"
   ]
  },
  {
   "cell_type": "code",
   "execution_count": 20,
   "metadata": {},
   "outputs": [
    {
     "name": "stdout",
     "output_type": "stream",
     "text": [
      "flat will rented in block no: 2\n",
      "flat will rented in block no: 4\n"
     ]
    }
   ],
   "source": [
    "for i in range(len(blocks)):\n",
    "    if (acc_block[i]['gym_dist']=='yes')&(acc_block[i]['store_dist']=='yes')&(acc_block[i]['office_dist']=='yes'):\n",
    "        print(\"flat will rented in block no:\",i+1)\n",
    "    else:pass    "
   ]
  },
  {
   "cell_type": "markdown",
   "metadata": {},
   "source": [
    "# problem no:2 \n",
    "## given 2 arrays make a func which return(true/false)  if both the array contains same element"
   ]
  },
  {
   "cell_type": "code",
   "execution_count": 26,
   "metadata": {},
   "outputs": [],
   "source": [
    "arr1=['a','b','c','d']\n",
    "arr2=['x','y','z']"
   ]
  },
  {
   "cell_type": "code",
   "execution_count": 27,
   "metadata": {},
   "outputs": [],
   "source": [
    "def arraycheck(arr1,arr2):   \n",
    "    for i in range(len(arr1)): #o(n) time linearity\n",
    "        if  arr1[i] in arr2:  \n",
    "            return True\n",
    "        else:pass\n",
    "     \n",
    "    return False\n",
    "        "
   ]
  },
  {
   "cell_type": "code",
   "execution_count": 28,
   "metadata": {},
   "outputs": [
    {
     "data": {
      "text/plain": [
       "False"
      ]
     },
     "execution_count": 28,
     "metadata": {},
     "output_type": "execute_result"
    }
   ],
   "source": [
    "arraycheck(arr1,arr2)"
   ]
  },
  {
   "cell_type": "code",
   "execution_count": 7,
   "metadata": {},
   "outputs": [
    {
     "data": {
      "text/plain": [
       "1"
      ]
     },
     "execution_count": 7,
     "metadata": {},
     "output_type": "execute_result"
    }
   ],
   "source": [
    "lista=[1,2,3,4]\n",
    "lista.pop(0)"
   ]
  },
  {
   "cell_type": "code",
   "execution_count": 8,
   "metadata": {},
   "outputs": [
    {
     "data": {
      "text/plain": [
       "[2, 3, 4]"
      ]
     },
     "execution_count": 8,
     "metadata": {},
     "output_type": "execute_result"
    }
   ],
   "source": [
    "lista"
   ]
  },
  {
   "cell_type": "code",
   "execution_count": 10,
   "metadata": {},
   "outputs": [],
   "source": [
    "lista.reverse()"
   ]
  },
  {
   "cell_type": "code",
   "execution_count": 11,
   "metadata": {},
   "outputs": [
    {
     "data": {
      "text/plain": [
       "[4, 3, 2]"
      ]
     },
     "execution_count": 11,
     "metadata": {},
     "output_type": "execute_result"
    }
   ],
   "source": [
    "lista"
   ]
  },
  {
   "cell_type": "code",
   "execution_count": 12,
   "metadata": {},
   "outputs": [],
   "source": [
    "lista.remove(3)"
   ]
  },
  {
   "cell_type": "code",
   "execution_count": 13,
   "metadata": {},
   "outputs": [
    {
     "data": {
      "text/plain": [
       "[4, 2]"
      ]
     },
     "execution_count": 13,
     "metadata": {},
     "output_type": "execute_result"
    }
   ],
   "source": [
    "lista"
   ]
  },
  {
   "cell_type": "code",
   "execution_count": 14,
   "metadata": {},
   "outputs": [],
   "source": [
    "lista.append(12)"
   ]
  },
  {
   "cell_type": "code",
   "execution_count": 15,
   "metadata": {},
   "outputs": [
    {
     "data": {
      "text/plain": [
       "[4, 2, 12]"
      ]
     },
     "execution_count": 15,
     "metadata": {},
     "output_type": "execute_result"
    }
   ],
   "source": [
    "lista"
   ]
  },
  {
   "cell_type": "code",
   "execution_count": 17,
   "metadata": {},
   "outputs": [],
   "source": [
    "lista.extend([1,3,4])"
   ]
  },
  {
   "cell_type": "code",
   "execution_count": 18,
   "metadata": {},
   "outputs": [
    {
     "data": {
      "text/plain": [
       "[4, 2, 12, 1, 3, 4]"
      ]
     },
     "execution_count": 18,
     "metadata": {},
     "output_type": "execute_result"
    }
   ],
   "source": [
    "lista"
   ]
  },
  {
   "cell_type": "code",
   "execution_count": 19,
   "metadata": {},
   "outputs": [
    {
     "data": {
      "text/plain": [
       "True"
      ]
     },
     "execution_count": 19,
     "metadata": {},
     "output_type": "execute_result"
    }
   ],
   "source": [
    " 1 in lista"
   ]
  },
  {
   "cell_type": "code",
   "execution_count": 20,
   "metadata": {},
   "outputs": [
    {
     "data": {
      "text/plain": [
       "False"
      ]
     },
     "execution_count": 20,
     "metadata": {},
     "output_type": "execute_result"
    }
   ],
   "source": [
    "45 in lista"
   ]
  },
  {
   "cell_type": "code",
   "execution_count": 21,
   "metadata": {},
   "outputs": [],
   "source": [
    "list2=[45,1,3,89]\n",
    "lista.sort()"
   ]
  },
  {
   "cell_type": "code",
   "execution_count": 22,
   "metadata": {},
   "outputs": [
    {
     "data": {
      "text/plain": [
       "[1, 2, 3, 4, 4, 12]"
      ]
     },
     "execution_count": 22,
     "metadata": {},
     "output_type": "execute_result"
    }
   ],
   "source": [
    "lista"
   ]
  },
  {
   "cell_type": "code",
   "execution_count": 24,
   "metadata": {},
   "outputs": [],
   "source": [
    "lista.extend(list2)"
   ]
  },
  {
   "cell_type": "code",
   "execution_count": 25,
   "metadata": {},
   "outputs": [
    {
     "data": {
      "text/plain": [
       "[1, 2, 3, 4, 4, 12, 45, 1, 3, 89]"
      ]
     },
     "execution_count": 25,
     "metadata": {},
     "output_type": "execute_result"
    }
   ],
   "source": [
    "lista"
   ]
  },
  {
   "cell_type": "code",
   "execution_count": null,
   "metadata": {},
   "outputs": [],
   "source": []
  }
 ],
 "metadata": {
  "kernelspec": {
   "display_name": "Python 3",
   "language": "python",
   "name": "python3"
  },
  "language_info": {
   "codemirror_mode": {
    "name": "ipython",
    "version": 3
   },
   "file_extension": ".py",
   "mimetype": "text/x-python",
   "name": "python",
   "nbconvert_exporter": "python",
   "pygments_lexer": "ipython3",
   "version": "3.8.3"
  }
 },
 "nbformat": 4,
 "nbformat_minor": 4
}
