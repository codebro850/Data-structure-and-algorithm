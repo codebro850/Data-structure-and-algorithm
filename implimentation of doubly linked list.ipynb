{
 "cells": [
  {
   "cell_type": "code",
   "execution_count": 66,
   "metadata": {},
   "outputs": [],
   "source": [
    "class Node():\n",
    "    def __init__(self,data):\n",
    "        self.data=data\n",
    "        self.next=None\n",
    "        self.previous=None\n",
    "class Doublylinkedlist():\n",
    "    def __init__(self):\n",
    "        self.head=None\n",
    "        self.tail=self.head\n",
    "        self.length=0\n",
    "    def append(self,data):\n",
    "        new_node=Node(data)\n",
    "        if self.head==None:\n",
    "            self.head=new_node\n",
    "            self.tail=self.head\n",
    "            self.length+=1\n",
    "        else:\n",
    "            new_node.previous=self.tail\n",
    "            self.tail.next=new_node\n",
    "            self.tail=new_node\n",
    "            self.length+=1\n",
    "    def prepend(self,data):\n",
    "        new_node=Node(data)\n",
    "        if self.head==None:\n",
    "            self.head=new_node\n",
    "            self.tail=self.head\n",
    "            self.length+=1\n",
    "        else:\n",
    "            new_node.next=self.head\n",
    "            self.head.previous=new_node\n",
    "            self.head=new_node\n",
    "            self.length+=1\n",
    "    def print_list(self):\n",
    "        current_node=self.head\n",
    "        if current_node==None:\n",
    "            print('empty')\n",
    "        while current_node!=None:\n",
    "            print(current_node.data,end=' ')\n",
    "            current_node=current_node.next\n",
    "        print(' ')\n",
    "    \n",
    "    def insert(self,data,position):\n",
    "        new_node=Node(data)\n",
    "        current_node=self.head\n",
    "        if position>=self.length:\n",
    "            if position>self.length:\n",
    "                print('There is no position in linkedlist so inserting at the end of linkedlist')\n",
    "            self.append(data)\n",
    "            return\n",
    "        elif position==0:\n",
    "            current_node=current_node.next\n",
    "            current_node.previous=None\n",
    "            if current_node.next==None or current_node==None:\n",
    "                self.tail=current_node\n",
    "            self.length+=1\n",
    "            return\n",
    "        for i in range(position-1):\n",
    "            current_node=current_node.next\n",
    "        if current_node.next==None:\n",
    "            new_node.previous=current_node\n",
    "            self.tail.next=new_node\n",
    "            self.tail=new_node\n",
    "            self.length+=1\n",
    "            return\n",
    "        else:\n",
    "            new_node.next=current_node.next\n",
    "            new_node.previous=current_node\n",
    "            current_node.next=new_node\n",
    "            current_node.next.previous=new_node\n",
    "            self.length+=1\n",
    "            return\n",
    "        \n",
    "    def delete(self,data):\n",
    "        current_node=self.head\n",
    "        if current_node==None:\n",
    "            print('linked list is empty')\n",
    "            return\n",
    "        if current_node.data==data:\n",
    "            self.head=current_node.next\n",
    "            current_node.next.previous=None\n",
    "            if current_node.next==None or self.head==None:\n",
    "                self.tail=self.head\n",
    "            self.length-=1\n",
    "            return\n",
    "        while current_node.next!=None and current_node.next.data!=data:\n",
    "            current_node=current_node.next\n",
    "        if current_node.next!=None:\n",
    "            current_node.next=current_node.next.next\n",
    "            current_node.next.next.previous=current_node.previous\n",
    "            if current_node.next==None:\n",
    "                self.tail=current_node\n",
    "            self.length-=1\n",
    "            return \n",
    "        else:\n",
    "            print('Given data does not exist in linkedlist')\n",
    "    def delete_by_position(self,position):\n",
    "        current_node=self.head\n",
    "        if position>=self.length:\n",
    "            if position>self.length:\n",
    "                print(\"No element exist at this position in given linked list\")\n",
    "            return\n",
    "        if position==0:\n",
    "            self.head=current_node.next\n",
    "            current_node.next.previous=None\n",
    "            if current_node.next==None or self.head==None:\n",
    "                self.tail=self.tail\n",
    "            self.length-=1\n",
    "            return\n",
    "        for i in range(position-1):\n",
    "            current_node=current_node.next\n",
    "        current_node.next=current_node.next.next\n",
    "        if current_node.next==None:\n",
    "            self.tail=current_node\n",
    "        else:\n",
    "            current_node.next.previous=current_node\n",
    "        self.length-=1\n",
    "        return\n",
    "            \n",
    "        \n",
    "        \n",
    "            \n",
    "            \n",
    "             \n",
    "            \n",
    "        "
   ]
  },
  {
   "cell_type": "code",
   "execution_count": 67,
   "metadata": {},
   "outputs": [],
   "source": [
    "mydoublelinkedlist=Doublylinkedlist()\n"
   ]
  },
  {
   "cell_type": "code",
   "execution_count": 68,
   "metadata": {},
   "outputs": [],
   "source": [
    "mydoublelinkedlist.append(1)"
   ]
  },
  {
   "cell_type": "code",
   "execution_count": 69,
   "metadata": {},
   "outputs": [],
   "source": [
    "mydoublelinkedlist.append(2)"
   ]
  },
  {
   "cell_type": "code",
   "execution_count": 70,
   "metadata": {},
   "outputs": [],
   "source": [
    "mydoublelinkedlist.append(3)"
   ]
  },
  {
   "cell_type": "code",
   "execution_count": 71,
   "metadata": {},
   "outputs": [],
   "source": [
    "mydoublelinkedlist.append(4)"
   ]
  },
  {
   "cell_type": "code",
   "execution_count": 72,
   "metadata": {},
   "outputs": [],
   "source": [
    "mydoublelinkedlist.append(5)"
   ]
  },
  {
   "cell_type": "code",
   "execution_count": 73,
   "metadata": {},
   "outputs": [
    {
     "name": "stdout",
     "output_type": "stream",
     "text": [
      "1 2 3 4 5  \n"
     ]
    }
   ],
   "source": [
    "mydoublelinkedlist.print_list()"
   ]
  },
  {
   "cell_type": "code",
   "execution_count": 74,
   "metadata": {},
   "outputs": [],
   "source": [
    "mydoublelinkedlist.prepend(0)"
   ]
  },
  {
   "cell_type": "code",
   "execution_count": 75,
   "metadata": {},
   "outputs": [],
   "source": [
    "mydoublelinkedlist.prepend(-1)"
   ]
  },
  {
   "cell_type": "code",
   "execution_count": 76,
   "metadata": {},
   "outputs": [],
   "source": [
    "mydoublelinkedlist.prepend(-2)"
   ]
  },
  {
   "cell_type": "code",
   "execution_count": 77,
   "metadata": {},
   "outputs": [
    {
     "name": "stdout",
     "output_type": "stream",
     "text": [
      "-2 -1 0 1 2 3 4 5  \n"
     ]
    }
   ],
   "source": [
    "mydoublelinkedlist.print_list()"
   ]
  },
  {
   "cell_type": "code",
   "execution_count": 78,
   "metadata": {},
   "outputs": [],
   "source": [
    "mydoublelinkedlist.insert(-3,0)"
   ]
  },
  {
   "cell_type": "code",
   "execution_count": 79,
   "metadata": {},
   "outputs": [],
   "source": [
    "mydoublelinkedlist.insert(-4,4)"
   ]
  },
  {
   "cell_type": "code",
   "execution_count": 80,
   "metadata": {},
   "outputs": [
    {
     "name": "stdout",
     "output_type": "stream",
     "text": [
      "-2 -1 0 1 -4 2 3 4 5  \n"
     ]
    }
   ],
   "source": [
    "mydoublelinkedlist.print_list()"
   ]
  },
  {
   "cell_type": "code",
   "execution_count": 81,
   "metadata": {},
   "outputs": [],
   "source": [
    "mydoublelinkedlist.delete(-4)"
   ]
  },
  {
   "cell_type": "code",
   "execution_count": 82,
   "metadata": {},
   "outputs": [
    {
     "name": "stdout",
     "output_type": "stream",
     "text": [
      "-2 -1 0 1 2 3 4 5  \n"
     ]
    }
   ],
   "source": [
    "mydoublelinkedlist.print_list()"
   ]
  },
  {
   "cell_type": "code",
   "execution_count": 83,
   "metadata": {},
   "outputs": [],
   "source": [
    "mydoublelinkedlist.delete_by_position(2)"
   ]
  },
  {
   "cell_type": "code",
   "execution_count": 84,
   "metadata": {},
   "outputs": [
    {
     "name": "stdout",
     "output_type": "stream",
     "text": [
      "-2 -1 1 2 3 4 5  \n"
     ]
    }
   ],
   "source": [
    "mydoublelinkedlist.print_list()"
   ]
  },
  {
   "cell_type": "code",
   "execution_count": 85,
   "metadata": {},
   "outputs": [],
   "source": [
    "mydoublelinkedlist.delete_by_position(4)"
   ]
  },
  {
   "cell_type": "code",
   "execution_count": null,
   "metadata": {},
   "outputs": [],
   "source": []
  }
 ],
 "metadata": {
  "kernelspec": {
   "display_name": "Python 3",
   "language": "python",
   "name": "python3"
  },
  "language_info": {
   "codemirror_mode": {
    "name": "ipython",
    "version": 3
   },
   "file_extension": ".py",
   "mimetype": "text/x-python",
   "name": "python",
   "nbconvert_exporter": "python",
   "pygments_lexer": "ipython3",
   "version": "3.8.3"
  }
 },
 "nbformat": 4,
 "nbformat_minor": 4
}
