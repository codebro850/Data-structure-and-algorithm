{
 "cells": [
  {
   "cell_type": "code",
   "execution_count": 20,
   "metadata": {},
   "outputs": [],
   "source": [
    "def maxCost(cost,labels,dayinput):\n",
    "    illegal_count=0\n",
    "    legal_count=0\n",
    "    cost_illegal=0\n",
    "    cost_legal=0\n",
    "    costing=[]\n",
    "    for i in range(len(labels)):\n",
    "        if labels[i]=='legal':\n",
    "            legal_count+=1\n",
    "            cost_legal=cost_legal+cost[i]\n",
    "            if legal_count==dayinput:\n",
    "                if illegal_count:\n",
    "                        cost_legal=cost_illegal+cost_legal\n",
    "#                         print(cost_legal)\n",
    "                        costing.append(cost_legal)\n",
    "                        illegal_count=0\n",
    "                        legal_count=0\n",
    "                        cost_legal=0\n",
    "                else:\n",
    "                    costing.append(cost_legal)\n",
    "                    legal_count=0\n",
    "                    cost_legal=0\n",
    "                \n",
    "            \n",
    "        if labels[i]=='illegal':\n",
    "            illegal_count+=1\n",
    "            cost_illegal+=cost[i]\n",
    "            \n",
    "            \n",
    "            \n",
    "    if costing:\n",
    "        maxcos=max(costing)\n",
    "    else:\n",
    "        maxcos=0\n",
    "#     print(costing)\n",
    "    return maxcos"
   ]
  },
  {
   "cell_type": "code",
   "execution_count": 21,
   "metadata": {},
   "outputs": [
    {
     "data": {
      "text/plain": [
       "5"
      ]
     },
     "execution_count": 21,
     "metadata": {},
     "output_type": "execute_result"
    }
   ],
   "source": [
    "cost=[0,3,2,3,4]\n",
    "labels=['illegal','legal','illegal','legal','illegal']\n",
    "dayinput=1\n",
    "maxCost(cost,labels,dayinput)"
   ]
  },
  {
   "cell_type": "code",
   "execution_count": null,
   "metadata": {},
   "outputs": [],
   "source": []
  }
 ],
 "metadata": {
  "kernelspec": {
   "display_name": "Python 3",
   "language": "python",
   "name": "python3"
  },
  "language_info": {
   "codemirror_mode": {
    "name": "ipython",
    "version": 3
   },
   "file_extension": ".py",
   "mimetype": "text/x-python",
   "name": "python",
   "nbconvert_exporter": "python",
   "pygments_lexer": "ipython3",
   "version": "3.8.3"
  }
 },
 "nbformat": 4,
 "nbformat_minor": 4
}
