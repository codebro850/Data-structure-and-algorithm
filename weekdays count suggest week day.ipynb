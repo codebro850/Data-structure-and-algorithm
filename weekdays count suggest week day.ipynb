{
 "cells": [
  {
   "cell_type": "code",
   "execution_count": 11,
   "metadata": {},
   "outputs": [],
   "source": [
    "def daysweeks(s,k):\n",
    "    weeks=['Mon','Tue','Wed','Thu','Fri','Sat','Sun']\n",
    "    index=weeks.index(s)\n",
    "    if k==7:\n",
    "        return s\n",
    "    if k<7:\n",
    "        if(index+k)>=7:\n",
    "            return weeks[(index+k)-7]\n",
    "        else:\n",
    "            return weeks[index+k]\n",
    "    if k>7:\n",
    "        for i in range(1,7):\n",
    "            if (k-i)%7==0:\n",
    "                if(index+i)>=7:\n",
    "                     return weeks[(index+i)-7]\n",
    "                     break\n",
    "                else:\n",
    "                    return weeks[index+i]\n",
    "                    break\n",
    "            else:\n",
    "                pass\n",
    "            \n",
    "                    \n",
    "                \n",
    "        \n",
    "        \n",
    "        \n",
    "        "
   ]
  },
  {
   "cell_type": "code",
   "execution_count": 14,
   "metadata": {},
   "outputs": [
    {
     "data": {
      "text/plain": [
       "'Thu'"
      ]
     },
     "execution_count": 14,
     "metadata": {},
     "output_type": "execute_result"
    }
   ],
   "source": [
    "daysweeks('Sat',19)"
   ]
  },
  {
   "cell_type": "code",
   "execution_count": null,
   "metadata": {},
   "outputs": [],
   "source": []
  }
 ],
 "metadata": {
  "kernelspec": {
   "display_name": "Python 3",
   "language": "python",
   "name": "python3"
  },
  "language_info": {
   "codemirror_mode": {
    "name": "ipython",
    "version": 3
   },
   "file_extension": ".py",
   "mimetype": "text/x-python",
   "name": "python",
   "nbconvert_exporter": "python",
   "pygments_lexer": "ipython3",
   "version": "3.8.3"
  }
 },
 "nbformat": 4,
 "nbformat_minor": 4
}
