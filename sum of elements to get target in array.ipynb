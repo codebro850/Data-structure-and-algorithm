{
 "cells": [
  {
   "cell_type": "code",
   "execution_count": 9,
   "metadata": {},
   "outputs": [],
   "source": [
    "def targetsum(l,t):\n",
    "    s=0\n",
    "    j=[]\n",
    "    c=list(abs(l[i]-t) for i in range(len(l)) )\n",
    "    for i in range(len(c)):\n",
    "        if c[i] in l:\n",
    "            if i!=l.index(c[i]):\n",
    "                j.append([i,l.index(c[i])])\n",
    "                s+=1\n",
    "        else:\n",
    "            continue\n",
    "    if s>0:\n",
    "        return True,s,j\n",
    "    else:\n",
    "        return False,s    "
   ]
  },
  {
   "cell_type": "code",
   "execution_count": 10,
   "metadata": {},
   "outputs": [
    {
     "data": {
      "text/plain": [
       "(True, 3, [[1, 4], [3, 2], [4, 1]])"
      ]
     },
     "execution_count": 10,
     "metadata": {},
     "output_type": "execute_result"
    }
   ],
   "source": [
    "targetsum([1,3,4,4,5],8)"
   ]
  },
  {
   "cell_type": "code",
   "execution_count": null,
   "metadata": {},
   "outputs": [],
   "source": []
  }
 ],
 "metadata": {
  "kernelspec": {
   "display_name": "Python 3",
   "language": "python",
   "name": "python3"
  },
  "language_info": {
   "codemirror_mode": {
    "name": "ipython",
    "version": 3
   },
   "file_extension": ".py",
   "mimetype": "text/x-python",
   "name": "python",
   "nbconvert_exporter": "python",
   "pygments_lexer": "ipython3",
   "version": "3.8.3"
  }
 },
 "nbformat": 4,
 "nbformat_minor": 4
}
