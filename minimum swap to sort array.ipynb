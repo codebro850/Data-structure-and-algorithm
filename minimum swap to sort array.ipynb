{
 "cells": [
  {
   "cell_type": "code",
   "execution_count": 17,
   "metadata": {},
   "outputs": [
    {
     "name": "stdout",
     "output_type": "stream",
     "text": [
      "3 2 4 5 1\n",
      "previous d: {3: 1, 2: 2, 4: 3, 5: 4, 1: 5}\n",
      "({3: 5, 2: 2, 4: 5, 5: 5, 1: 5}, 3, [3, 2, 4, 5, 5])\n",
      "execution time: 0.000990152359008789\n"
     ]
    }
   ],
   "source": [
    "import time\n",
    "\n",
    "\n",
    "def minimumSwaps(arr):\n",
    "    s = 0\n",
    "#     d=dict(enumerate(arr,1))\n",
    "    d=dict(zip(arr,range(1,len(arr)+1)))\n",
    "    print(\"previous d:\",d)\n",
    "    for i in range(1,len(arr)+1):\n",
    "        if d[i] !=i:\n",
    "            d[arr[i-1]]=d[i]\n",
    "            arr[d[i]-1]=arr[i-1]\n",
    "            s+=1  \n",
    "        \n",
    "    return d,s,arr\n",
    "\n",
    "\n",
    "\n",
    "# arr = []\n",
    "# for i in range(10000):\n",
    "#     arr.append(i)\n",
    "\n",
    "arr = list(map(int, input().rstrip().split()))\n",
    "starttime = time.time()\n",
    "print(minimumSwaps(arr))\n",
    "print(\"execution time:\", time.time()-starttime)\n"
   ]
  },
  {
   "cell_type": "code",
   "execution_count": 15,
   "metadata": {},
   "outputs": [
    {
     "name": "stdout",
     "output_type": "stream",
     "text": [
      "3 2 5 4 1\n",
      "({1: 1, 2: 2, 3: 3, 4: 4, 5: 1}, 2)\n",
      "execution time: 0.001993894577026367\n"
     ]
    }
   ],
   "source": [
    "def minimumSwaps(arr):\n",
    "    s = 0\n",
    "    d=dict(enumerate(arr,1))\n",
    "#     d=dict(zip(arr,range(1,len(arr)+1)))\n",
    "    for i in range(1,len(arr)+1):\n",
    "        if d[i] !=i:\n",
    "            d[arr[i-1]]=d[i]\n",
    "            arr[d[i]-1]=arr[i-1]\n",
    "            s+=1  \n",
    "        \n",
    "    return d,s\n",
    "\n",
    "\n",
    "# arr = []\n",
    "# for i in range(10000):\n",
    "#     arr.append(i)\n",
    "\n",
    "arr = list(map(int, input().rstrip().split()))\n",
    "starttime = time.time()\n",
    "print(minimumSwaps(arr))\n",
    "print(\"execution time:\", time.time()-starttime)"
   ]
  },
  {
   "cell_type": "code",
   "execution_count": 21,
   "metadata": {},
   "outputs": [],
   "source": [
    "a=dict(zip([1,2,3,4,5],range(1,6)))"
   ]
  },
  {
   "cell_type": "code",
   "execution_count": 25,
   "metadata": {},
   "outputs": [
    {
     "data": {
      "text/plain": [
       "dict"
      ]
     },
     "execution_count": 25,
     "metadata": {},
     "output_type": "execute_result"
    }
   ],
   "source": [
    "type(a)"
   ]
  },
  {
   "cell_type": "code",
   "execution_count": 23,
   "metadata": {},
   "outputs": [],
   "source": [
    "b=dict(enumerate([1,2,3,4,5],1))"
   ]
  },
  {
   "cell_type": "code",
   "execution_count": 26,
   "metadata": {},
   "outputs": [
    {
     "data": {
      "text/plain": [
       "dict"
      ]
     },
     "execution_count": 26,
     "metadata": {},
     "output_type": "execute_result"
    }
   ],
   "source": [
    "type(b)"
   ]
  },
  {
   "cell_type": "code",
   "execution_count": 1,
   "metadata": {},
   "outputs": [],
   "source": [
    "a=[5,3,1,2,4]\n"
   ]
  },
  {
   "cell_type": "code",
   "execution_count": 2,
   "metadata": {},
   "outputs": [],
   "source": [
    "d=dict(enumerate(a,1))"
   ]
  },
  {
   "cell_type": "code",
   "execution_count": 3,
   "metadata": {},
   "outputs": [
    {
     "data": {
      "text/plain": [
       "{1: 5, 2: 3, 3: 1, 4: 2, 5: 4}"
      ]
     },
     "execution_count": 3,
     "metadata": {},
     "output_type": "execute_result"
    }
   ],
   "source": [
    "d"
   ]
  },
  {
   "cell_type": "code",
   "execution_count": 4,
   "metadata": {},
   "outputs": [],
   "source": [
    "d[5]=d[1]\n",
    "a[4]=a[0]"
   ]
  },
  {
   "cell_type": "code",
   "execution_count": 5,
   "metadata": {},
   "outputs": [
    {
     "data": {
      "text/plain": [
       "{1: 5, 2: 3, 3: 1, 4: 2, 5: 5}"
      ]
     },
     "execution_count": 5,
     "metadata": {},
     "output_type": "execute_result"
    }
   ],
   "source": [
    "d"
   ]
  },
  {
   "cell_type": "code",
   "execution_count": 6,
   "metadata": {},
   "outputs": [
    {
     "data": {
      "text/plain": [
       "[5, 3, 1, 2, 5]"
      ]
     },
     "execution_count": 6,
     "metadata": {},
     "output_type": "execute_result"
    }
   ],
   "source": [
    "a"
   ]
  },
  {
   "cell_type": "code",
   "execution_count": 7,
   "metadata": {},
   "outputs": [],
   "source": [
    "d[3]=d[2]\n",
    "a[2]=a[1]"
   ]
  },
  {
   "cell_type": "code",
   "execution_count": 8,
   "metadata": {},
   "outputs": [
    {
     "data": {
      "text/plain": [
       "{1: 5, 2: 3, 3: 3, 4: 2, 5: 5}"
      ]
     },
     "execution_count": 8,
     "metadata": {},
     "output_type": "execute_result"
    }
   ],
   "source": [
    "d"
   ]
  },
  {
   "cell_type": "code",
   "execution_count": 9,
   "metadata": {},
   "outputs": [
    {
     "data": {
      "text/plain": [
       "[5, 3, 3, 2, 5]"
      ]
     },
     "execution_count": 9,
     "metadata": {},
     "output_type": "execute_result"
    }
   ],
   "source": [
    "a"
   ]
  },
  {
   "cell_type": "code",
   "execution_count": 10,
   "metadata": {},
   "outputs": [],
   "source": [
    "d[2]=d[4]\n",
    "a[1]=a[3]"
   ]
  },
  {
   "cell_type": "code",
   "execution_count": 11,
   "metadata": {},
   "outputs": [
    {
     "data": {
      "text/plain": [
       "{1: 5, 2: 2, 3: 3, 4: 2, 5: 5}"
      ]
     },
     "execution_count": 11,
     "metadata": {},
     "output_type": "execute_result"
    }
   ],
   "source": [
    "d"
   ]
  },
  {
   "cell_type": "code",
   "execution_count": 12,
   "metadata": {},
   "outputs": [
    {
     "data": {
      "text/plain": [
       "[5, 2, 3, 2, 5]"
      ]
     },
     "execution_count": 12,
     "metadata": {},
     "output_type": "execute_result"
    }
   ],
   "source": [
    "a"
   ]
  },
  {
   "cell_type": "code",
   "execution_count": null,
   "metadata": {},
   "outputs": [],
   "source": []
  }
 ],
 "metadata": {
  "kernelspec": {
   "display_name": "Python 3",
   "language": "python",
   "name": "python3"
  },
  "language_info": {
   "codemirror_mode": {
    "name": "ipython",
    "version": 3
   },
   "file_extension": ".py",
   "mimetype": "text/x-python",
   "name": "python",
   "nbconvert_exporter": "python",
   "pygments_lexer": "ipython3",
   "version": "3.8.3"
  }
 },
 "nbformat": 4,
 "nbformat_minor": 4
}
