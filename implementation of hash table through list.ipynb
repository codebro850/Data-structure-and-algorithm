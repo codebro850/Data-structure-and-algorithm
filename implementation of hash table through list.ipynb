{
 "cells": [
  {
   "cell_type": "code",
   "execution_count": 9,
   "metadata": {},
   "outputs": [],
   "source": [
    "class Hashtable(): #implementing the hash table in python\n",
    "    def __init__(self,size):         #we initialize the size of our hash table (with no of buckets) with size given to the object of class\n",
    "        self.size=size\n",
    "        self.data=[None]*self.size    #initializing an array of size 'size' with None\n",
    "    def __str__(self):                 #this method is used to print the parameters of class object in dictionary format\n",
    "        return str(self.__dict__)      \n",
    "    def _hash(self,key):               #hash function returning a custom hash of the key\n",
    "        hash=0\n",
    "        for i in range(len(key)):\n",
    "            ash=(hash+ord(key[i]))%self.size  #ord return the unicode code point of character key[i]\n",
    "        return hash\n",
    "    def Set(self,key,value):      #setting the hash table with set of key and values\n",
    "        hash=self._hash(key)          #getting the hash for the key\n",
    "        if not self.data[hash]:               #if there is no data at this hash then we initialize that hash with key and values\n",
    "            self.data[hash]=[[key,value]]\n",
    "        else:\n",
    "            self.data[hash].append([key,value])     #if hash already exist for the some keys and values pair then we append our new pair at that hash        print(self.data)\n",
    "    def get(self,key):          #get the values associated with the keys\n",
    "        hash=self._hash(key)\n",
    "        if self.data[hash]:      #check if the hash exists or not\n",
    "            for i in range(len(self.data[hash])):   #iterate in the list of lists that may be present at hash position of data array\n",
    "                if self.data[hash][i][0]==key:     \n",
    "                    return self.data[hash][i][1] #printing the last element of the list associated with given key\n",
    "        return None     #if nothing at that hash return None \n",
    "    def keys(self):         #getting all the keys for data array\n",
    "        keys=[]\n",
    "        for i in range(self.size): #we loop over entire table\n",
    "              if self.data[i]: #if we find non empty bucket then we go and loop over it for keys, values that might be in it \n",
    "                if len(self.data[i])>1:     \n",
    "                    for j in range(len(self.data[i])):\n",
    "                        keys.append(self.data[i][j][0])\n",
    "                else:\n",
    "                    keys.append(self.data[i][0][0])\n",
    "\n",
    "        return keys\n",
    "    def values(self): #getting the values of the bucket associated with the keys\n",
    "        values_array=[]\n",
    "        for i in range(len(self.data)): #loop over array of data\n",
    "            if self.data[i]:            #check for non empty bucket \n",
    "                for j in range(len(self.data[i])):  #loop over each and every list of lists that might be at that hash\n",
    "                    values_array.append(self.data[i][j][1])\n",
    "        return values_array"
   ]
  },
  {
   "cell_type": "code",
   "execution_count": 10,
   "metadata": {},
   "outputs": [],
   "source": [
    "hash_table=Hashtable(2)"
   ]
  },
  {
   "cell_type": "code",
   "execution_count": 11,
   "metadata": {},
   "outputs": [
    {
     "name": "stdout",
     "output_type": "stream",
     "text": [
      "{'size': 2, 'data': [None, None]}\n"
     ]
    }
   ],
   "source": [
    "print(hash_table)"
   ]
  },
  {
   "cell_type": "code",
   "execution_count": 12,
   "metadata": {},
   "outputs": [],
   "source": [
    "hash_table.Set('a',1)"
   ]
  },
  {
   "cell_type": "code",
   "execution_count": 13,
   "metadata": {},
   "outputs": [
    {
     "data": {
      "text/plain": [
       "1"
      ]
     },
     "execution_count": 13,
     "metadata": {},
     "output_type": "execute_result"
    }
   ],
   "source": [
    "hash_table.get('a')"
   ]
  },
  {
   "cell_type": "code",
   "execution_count": 14,
   "metadata": {},
   "outputs": [
    {
     "data": {
      "text/plain": [
       "['a']"
      ]
     },
     "execution_count": 14,
     "metadata": {},
     "output_type": "execute_result"
    }
   ],
   "source": [
    "hash_table.keys()"
   ]
  },
  {
   "cell_type": "code",
   "execution_count": 15,
   "metadata": {},
   "outputs": [
    {
     "data": {
      "text/plain": [
       "[1]"
      ]
     },
     "execution_count": 15,
     "metadata": {},
     "output_type": "execute_result"
    }
   ],
   "source": [
    "hash_table.values()"
   ]
  },
  {
   "cell_type": "code",
   "execution_count": 16,
   "metadata": {},
   "outputs": [
    {
     "name": "stdout",
     "output_type": "stream",
     "text": [
      "{'size': 2, 'data': [[['a', 1]], None]}\n"
     ]
    }
   ],
   "source": [
    "print(hash_table)"
   ]
  },
  {
   "cell_type": "code",
   "execution_count": 18,
   "metadata": {},
   "outputs": [],
   "source": [
    "hash_table.Set('b',2)\n",
    "hash_table.Set('c',3)\n",
    "hash_table.Set('d',4)\n",
    "hash_table.Set('e',5)"
   ]
  },
  {
   "cell_type": "code",
   "execution_count": 21,
   "metadata": {},
   "outputs": [
    {
     "name": "stdout",
     "output_type": "stream",
     "text": [
      "{'size': 2, 'data': [[['a', 1], ['b', 2], ['c', 3], ['d', 4], ['e', 5]], None]}\n"
     ]
    }
   ],
   "source": [
    "print(hash_table)"
   ]
  },
  {
   "cell_type": "code",
   "execution_count": 22,
   "metadata": {},
   "outputs": [
    {
     "data": {
      "text/plain": [
       "0"
      ]
     },
     "execution_count": 22,
     "metadata": {},
     "output_type": "execute_result"
    }
   ],
   "source": [
    "hash_table._hash('a')"
   ]
  },
  {
   "cell_type": "code",
   "execution_count": 23,
   "metadata": {},
   "outputs": [
    {
     "data": {
      "text/plain": [
       "0"
      ]
     },
     "execution_count": 23,
     "metadata": {},
     "output_type": "execute_result"
    }
   ],
   "source": [
    "hash_table._hash('b')"
   ]
  },
  {
   "cell_type": "code",
   "execution_count": 24,
   "metadata": {},
   "outputs": [
    {
     "data": {
      "text/plain": [
       "0"
      ]
     },
     "execution_count": 24,
     "metadata": {},
     "output_type": "execute_result"
    }
   ],
   "source": [
    "hash_table._hash('dfg')"
   ]
  },
  {
   "cell_type": "code",
   "execution_count": null,
   "metadata": {},
   "outputs": [],
   "source": []
  }
 ],
 "metadata": {
  "kernelspec": {
   "display_name": "Python 3",
   "language": "python",
   "name": "python3"
  },
  "language_info": {
   "codemirror_mode": {
    "name": "ipython",
    "version": 3
   },
   "file_extension": ".py",
   "mimetype": "text/x-python",
   "name": "python",
   "nbconvert_exporter": "python",
   "pygments_lexer": "ipython3",
   "version": "3.8.3"
  }
 },
 "nbformat": 4,
 "nbformat_minor": 4
}
